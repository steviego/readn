{
 "cells": [
  {
   "cell_type": "code",
   "execution_count": 1,
   "metadata": {},
   "outputs": [
    {
     "name": "stderr",
     "output_type": "stream",
     "text": [
      "USER_AGENT environment variable not set, consider setting it to identify your requests.\n"
     ]
    }
   ],
   "source": [
    "import bs4\n",
    "from langchain import hub\n",
    "from langchain_community.document_loaders import WebBaseLoader\n",
    "from langchain_chroma import Chroma\n",
    "from langchain_core.output_parsers import StrOutputParser\n",
    "from langchain_core.runnables import RunnablePassthrough\n",
    "from langchain_openai import OpenAIEmbeddings\n",
    "from langchain_text_splitters import RecursiveCharacterTextSplitter"
   ]
  },
  {
   "cell_type": "code",
   "execution_count": 2,
   "metadata": {},
   "outputs": [
    {
     "data": {
      "text/plain": [
       "True"
      ]
     },
     "execution_count": 2,
     "metadata": {},
     "output_type": "execute_result"
    }
   ],
   "source": [
    "from dotenv import load_dotenv\n",
    "load_dotenv()"
   ]
  },
  {
   "cell_type": "code",
   "execution_count": 3,
   "metadata": {},
   "outputs": [],
   "source": [
    "from langchain_openai import OpenAI\n",
    "from langchain_openai import ChatOpenAI\n",
    "\n",
    "import os\n",
    "\n",
    "api_key = os.getenv(\"API_KEY\")\n",
    "chat_completion_url = os.getenv(\"BASE_URL\")\n",
    "\n",
    "llm = ChatOpenAI(\n",
    "    model=\"gcp/gemini-1.5-flash-002\",\n",
    "    api_key=api_key,\n",
    "    base_url=chat_completion_url\n",
    ")"
   ]
  },
  {
   "cell_type": "code",
   "execution_count": null,
   "metadata": {},
   "outputs": [],
   "source": [
    "# Load, chunk and index the contents of the blog.\n",
    "loader = WebBaseLoader(\n",
    "    web_paths=(\"https://lilianweng.github.io/posts/2023-06-23-agent/\",),\n",
    "    bs_kwargs=dict(\n",
    "        parse_only=bs4.SoupStrainer(\n",
    "            class_=(\"post-content\", \"post-title\", \"post-header\")\n",
    "        )\n",
    "    ),\n",
    ")\n",
    "docs = loader.load()\n",
    "embedding_function = OpenAIEmbeddings(model=\"openai/text-embedding-3-large\",\n",
    "                                      api_key=api_key,\n",
    "                                      base_url=chat_completion_url)\n",
    "\n",
    "text_splitter = RecursiveCharacterTextSplitter(chunk_size=1000, chunk_overlap=200)\n",
    "splits = text_splitter.split_documents(docs)\n",
    "vectorstore = Chroma.from_documents(documents=splits, \n",
    "                                    embedding=embedding_function)\n",
    "\n",
    "# Retrieve and generate using the relevant snippets of the blog.\n",
    "retriever = vectorstore.as_retriever()\n",
    "prompt = hub.pull(\"rlm/rag-prompt\")\n",
    "\n",
    "def format_docs(docs):\n",
    "    return \"\\n\\n\".join(doc.page_content for doc in docs)\n",
    "\n",
    "rag_chain = (\n",
    "    {\"context\": retriever | format_docs, \"question\": RunnablePassthrough()}\n",
    "    | prompt\n",
    "    | llm\n",
    "    | StrOutputParser()\n",
    ")"
   ]
  },
  {
   "cell_type": "code",
   "execution_count": null,
   "metadata": {},
   "outputs": [],
   "source": [
    "rag_chain.invoke(\"What is Task Decomposition?\")"
   ]
  },
  {
   "cell_type": "code",
   "execution_count": 13,
   "metadata": {},
   "outputs": [
    {
     "name": "stdout",
     "output_type": "stream",
     "text": [
      "[Document(metadata={'source': 'school_guide_qna_russia.csv', 'row': 0}, page_content='id: 1\\nquestion: Во сколько начинается школьное занятие?\\nanswer: Занятие начинается с 8:20 до 8:40 утра.'), Document(metadata={'source': 'school_guide_qna_russia.csv', 'row': 1}, page_content='id: 2\\nquestion: Как можно узнать меню школьной столовой?\\nanswer: Ежедневное меню можно узнать на школьном сайте или в мобильном приложении.'), Document(metadata={'source': 'school_guide_qna_russia.csv', 'row': 2}, page_content='id: 3\\nquestion: Как проверить успеваемость ребенка?\\nanswer: Успеваемость и учебный прогресс ребенка можно проверить через онлайн-портал для родителей.'), Document(metadata={'source': 'school_guide_qna_russia.csv', 'row': 3}, page_content='id: 4\\nquestion: Какое время работы медицинского кабинета в школе?\\nanswer: Медицинский кабинет работает в будние дни с 8:00 до 16:30.'), Document(metadata={'source': 'school_guide_qna_russia.csv', 'row': 4}, page_content='id: 5\\nquestion: Что делать, если ребенок заболел?\\nanswer: Свяжитесь с медицинским кабинетом или сообщите классному руководителю, чтобы принять необходимые меры.'), Document(metadata={'source': 'school_guide_qna_russia.csv', 'row': 5}, page_content='id: 6\\nquestion: Каковы правила использования школьной парковки?\\nanswer: Используйте выделенные зоны для родителей. При посещении школы получите парковочный талон на стойке регистрации.'), Document(metadata={'source': 'school_guide_qna_russia.csv', 'row': 6}, page_content='id: 7\\nquestion: Как найти утерянные вещи?\\nanswer: Вы можете обратиться в центр находок для проверки или поиска потерянных вещей.'), Document(metadata={'source': 'school_guide_qna_russia.csv', 'row': 7}, page_content='id: 8\\nquestion: Как записаться на родительскую консультацию?\\nanswer: Вы можете назначить консультацию через школьный сайт или связавшись с классным руководителем.'), Document(metadata={'source': 'school_guide_qna_russia.csv', 'row': 8}, page_content='id: 9\\nquestion: Какие меры принимаются для предотвращения школьного насилия?\\nanswer: Школа придерживается политики нулевой терпимости для обеспечения безопасности учеников.'), Document(metadata={'source': 'school_guide_qna_russia.csv', 'row': 9}, page_content='id: 10\\nquestion: Какие программы предусмотрены после уроков?\\nanswer: Предлагаются различные академические, художественные и спортивные программы, подробности можно узнать на школьном сайте.'), Document(metadata={'source': 'school_guide_qna_russia.csv', 'row': 10}, page_content='id: 11\\nquestion: Как сообщить о пропуске занятий ребенка?\\nanswer: Сообщите через онлайн-систему уведомлений о пропусках или напрямую свяжитесь с классным руководителем.'), Document(metadata={'source': 'school_guide_qna_russia.csv', 'row': 11}, page_content='id: 12\\nquestion: Как узнать расписание важных школьных мероприятий?\\nanswer: Расписание можно найти в онлайн-календаре школы или подписавшись на ежемесячную рассылку.'), Document(metadata={'source': 'school_guide_qna_russia.csv', 'row': 12}, page_content='id: 13\\nquestion: Каковы экстренные контакты школы?\\nanswer: Школа оперативно связывается с зарегистрированными экстренными контактами в случае необходимости.'), Document(metadata={'source': 'school_guide_qna_russia.csv', 'row': 13}, page_content='id: 14\\nquestion: Где купить школьную форму?\\nanswer: Школьную форму можно приобрести в магазине на территории школы или в указанном онлайн-магазине.'), Document(metadata={'source': 'school_guide_qna_russia.csv', 'row': 14}, page_content='id: 15\\nquestion: Как оплатить питание в школьной столовой?\\nanswer: Оплата производится ежемесячно через онлайн-систему платежей.'), Document(metadata={'source': 'school_guide_qna_russia.csv', 'row': 15}, page_content='id: 16\\nquestion: Как отслеживать учебный прогресс ребенка?\\nanswer: Учебный прогресс можно отслеживать через регулярные табели и онлайн-систему управления обучением.'), Document(metadata={'source': 'school_guide_qna_russia.csv', 'row': 16}, page_content='id: 17\\nquestion: Каковы правила использования Wi-Fi в школе?\\nanswer: Wi-Fi может использоваться только для образовательных целей, действует строгая политика использования интернета.'), Document(metadata={'source': 'school_guide_qna_russia.csv', 'row': 17}, page_content='id: 18\\nquestion: Какие меры принимаются для обеспечения дорожной безопасности?\\nanswer: Назначаются специальные сотрудники для контроля за дорожным движением, а также организуются безопасные пешеходные переходы.'), Document(metadata={'source': 'school_guide_qna_russia.csv', 'row': 18}, page_content='id: 19\\nquestion: Как участвовать в специальных или волонтерских программах?\\nanswer: Обратитесь к классному руководителю или в студенческий совет, чтобы узнать, как участвовать.'), Document(metadata={'source': 'school_guide_qna_russia.csv', 'row': 19}, page_content='id: 20\\nquestion: Какое время работы школьной библиотеки?\\nanswer: Библиотека работает в будние дни с 8:00 до 17:00.'), Document(metadata={'source': 'school_guide_qna_russia.csv', 'row': 20}, page_content='id: 21\\nquestion: Как сообщить о аллергии или медицинских особенностях ребенка?\\nanswer: Сообщите в медицинский кабинет и классному руководителю при поступлении или при изменении состояния ребенка.'), Document(metadata={'source': 'school_guide_qna_russia.csv', 'row': 21}, page_content='id: 22\\nquestion: Каковы правила поощрения и наказания в школе?\\nanswer: Они прописаны в руководстве по поведению учащихся, и школа придерживается принципов справедливости и последовательности.'), Document(metadata={'source': 'school_guide_qna_russia.csv', 'row': 22}, page_content='id: 23\\nquestion: Как организуются выездные мероприятия или школьные экскурсии?\\nanswer: Для участия требуется согласие родителей, подробный план и стоимость предоставляются заранее.'), Document(metadata={'source': 'school_guide_qna_russia.csv', 'row': 23}, page_content='id: 24\\nquestion: Как работает система безопасности школы?\\nanswer: Безопасность обеспечивается через видеонаблюдение и систему контроля доступа.'), Document(metadata={'source': 'school_guide_qna_russia.csv', 'row': 24}, page_content='id: 25\\nquestion: Какая поддержка предоставляется при низкой успеваемости ребенка?\\nanswer: Школа предлагает индивидуализированные программы поддержки обучения и репетиторство.'), Document(metadata={'source': 'school_guide_qna_russia.csv', 'row': 25}, page_content='id: 26\\nquestion: Как получить консультацию в школе?\\nanswer: Можно записаться на индивидуальную или групповую консультацию с психологом.'), Document(metadata={'source': 'school_guide_qna_russia.csv', 'row': 26}, page_content='id: 27\\nquestion: Какие иностранные языки можно изучать в школе?\\nanswer: Предлагаются программы по английскому, китайскому, японскому языкам и другим языкам.'), Document(metadata={'source': 'school_guide_qna_russia.csv', 'row': 27}, page_content='id: 28\\nquestion: Как участвовать в школьных клубах?\\nanswer: В начале семестра проводится ярмарка клубов, где можно узнать информацию и подать заявку на участие.'), Document(metadata={'source': 'school_guide_qna_russia.csv', 'row': 28}, page_content='id: 29\\nquestion: Какие спортивные объекты есть в школе?\\nanswer: В школе есть спортивный зал, стадион, теннисные корты и бассейн.'), Document(metadata={'source': 'school_guide_qna_russia.csv', 'row': 29}, page_content='id: 30\\nquestion: Каковы правила использования смартфонов?\\nanswer: Использование смартфонов ограничено во время уроков, допускается только в образовательных целях.'), Document(metadata={'source': 'school_guide_qna_russia.csv', 'row': 30}, page_content='id: 31\\nquestion: Какие программы пожертвований и спонсорства есть в школе?\\nanswer: В школе реализуются программы стипендий и фонды для развития школы.'), Document(metadata={'source': 'school_guide_qna_russia.csv', 'row': 31}, page_content='id: 32\\nquestion: Как организуется обучение по вопросам безопасности?\\nanswer: Регулярно проводятся тренировки по пожарной безопасности, землетрясениям и другим чрезвычайным ситуациям.'), Document(metadata={'source': 'school_guide_qna_russia.csv', 'row': 32}, page_content='id: 33\\nquestion: Как проводятся медицинские обследования учащихся?\\nanswer: Ежегодно организуются 1-2 обследования, результаты сообщаются родителям индивидуально.'), Document(metadata={'source': 'school_guide_qna_russia.csv', 'row': 33}, page_content='id: 34\\nquestion: Как школа поддерживает художественное и музыкальное развитие ребенка?\\nanswer: Школа предлагает различные художественные программы под руководством профессиональных преподавателей.'), Document(metadata={'source': 'school_guide_qna_russia.csv', 'row': 34}, page_content='id: 35\\nquestion: Какие IT-оборудования есть в школе?\\nanswer: Школа оснащена современными компьютерными лабораториями, планшетами и интерактивными досками.'), Document(metadata={'source': 'school_guide_qna_russia.csv', 'row': 35}, page_content='id: 36\\nquestion: Какие маршруты школьных автобусов есть рядом со школой?\\nanswer: Школьные автобусы покрывают множество районов, маршруты можно найти на школьном сайте.'), Document(metadata={'source': 'school_guide_qna_russia.csv', 'row': 36}, page_content='id: 37\\nquestion: Как участвовать в родительском волонтерстве?\\nanswer: Можно участвовать в школьных мероприятиях, работе библиотеки или внешкольных активностях.'), Document(metadata={'source': 'school_guide_qna_russia.csv', 'row': 37}, page_content='id: 38\\nquestion: Есть ли в школе художественная галерея или научный музей?\\nanswer: Школа управляет небольшой художественной галереей и научной выставочной зоной для поддержки культурного и научного образования.'), Document(metadata={'source': 'school_guide_qna_russia.csv', 'row': 38}, page_content='id: 39\\nquestion: Какая поддержка оказывается студентам из других культур?\\nanswer: Предоставляются языковая поддержка, программы адаптации и наставничества.'), Document(metadata={'source': 'school_guide_qna_russia.csv', 'row': 39}, page_content='id: 40\\nquestion: Каковы методы оценки успеваемости в школе?\\nanswer: Оценка основана на сочетании абсолютной и относительной шкал, используются разнообразные методы.'), Document(metadata={'source': 'school_guide_qna_russia.csv', 'row': 40}, page_content='id: 41\\nquestion: Как получить консультацию по профориентации ребенка?\\nanswer: Консультации проводятся с профессиональными советниками, а также через ярмарки профессий.'), Document(metadata={'source': 'school_guide_qna_russia.csv', 'row': 41}, page_content='id: 42\\nquestion: Какие услуги предоставляются для студентов с ограниченными возможностями?\\nanswer: Предлагаются услуги специалистов по специальному образованию, вспомогательные устройства и индивидуальная поддержка обучения.'), Document(metadata={'source': 'school_guide_qna_russia.csv', 'row': 42}, page_content='id: 43\\nquestion: Какие меры предусмотрены для безопасного передвижения в дождливую погоду?\\nanswer: Школа предоставляет зоны ожидания для детей и зоны ожидания для родителей, чтобы обеспечить безопасный процесс.'), Document(metadata={'source': 'school_guide_qna_russia.csv', 'row': 43}, page_content='id: 44\\nquestion: Как школа справляется с аллергией на пищевые продукты?\\nanswer: Информация об аллергии строго учитывается, а в столовой принимаются соответствующие меры.'), Document(metadata={'source': 'school_guide_qna_russia.csv', 'row': 44}, page_content='id: 45\\nquestion: Какие международные программы доступны для учащихся?\\nanswer: Предлагаются программы обмена с партнерскими школами и культурные международные обмены.'), Document(metadata={'source': 'school_guide_qna_russia.csv', 'row': 45}, page_content='id: 46\\nquestion: Как школа занимается вопросами экологической защиты и устойчивости?\\nanswer: Проводятся программы по переработке, экологическому образованию и экологическим инициативам.'), Document(metadata={'source': 'school_guide_qna_russia.csv', 'row': 46}, page_content='id: 47\\nquestion: Как отслеживается использование онлайн-платформы для обучения?\\nanswer: Родители могут следить за прогрессом ребенка через свои учетные записи.'), Document(metadata={'source': 'school_guide_qna_russia.csv', 'row': 47}, page_content='id: 48\\nquestion: Какие программы нравственного воспитания есть в школе?\\nanswer: Проводятся лидерские лагеря, волонтерские программы и воркшопы по этическому воспитанию.'), Document(metadata={'source': 'school_guide_qna_russia.csv', 'row': 48}, page_content='id: 49\\nquestion: Как школа помогает справляться со стрессом?\\nanswer: Предоставляются психологические консультации, медитационные программы и воркшопы по управлению стрессом.'), Document(metadata={'source': 'school_guide_qna_russia.csv', 'row': 49}, page_content='id: 50\\nquestion: Какие страховые и меры безопасности предусмотрены в школе?\\nanswer: Школа предоставляет страхование от несчастных случаев и страхование ответственности.')]\n",
      "50\n"
     ]
    }
   ],
   "source": [
    "from langchain_community.document_loaders.csv_loader import CSVLoader\n",
    "\n",
    "embedding_function = OpenAIEmbeddings(model=\"openai/text-embedding-3-large\",\n",
    "                                      api_key=api_key,\n",
    "                                      base_url=chat_completion_url)\n",
    "\n",
    "loader = CSVLoader(\n",
    "    file_path=\"school_guide_qna_russia.csv\",\n",
    "    csv_args={\n",
    "        \"delimiter\": \",\", \n",
    "        \"quotechar\": '\"',\n",
    "        \"fieldnames\": [\"id\", \"question\", \"answer\"]\n",
    "    }\n",
    ")\n",
    "docs = loader.load()\n",
    "\n",
    "print(docs)\n",
    "print(len(docs))"
   ]
  },
  {
   "cell_type": "code",
   "execution_count": 14,
   "metadata": {},
   "outputs": [
    {
     "name": "stderr",
     "output_type": "stream",
     "text": [
      "/Users/1111763/.practice/lib/python3.13/site-packages/langsmith/client.py:241: LangSmithMissingAPIKeyWarning: API key must be provided when using hosted LangSmith API\n",
      "  warnings.warn(\n"
     ]
    },
    {
     "name": "stdout",
     "output_type": "stream",
     "text": [
      "input_variables=['context', 'question'] input_types={} partial_variables={} metadata={'lc_hub_owner': 'rlm', 'lc_hub_repo': 'rag-prompt', 'lc_hub_commit_hash': '50442af133e61576e74536c6556cefe1fac147cad032f4377b60c436e6cdcb6e'} messages=[HumanMessagePromptTemplate(prompt=PromptTemplate(input_variables=['context', 'question'], input_types={}, partial_variables={}, template=\"You are an assistant for question-answering tasks. Use the following pieces of retrieved context to answer the question. If you don't know the answer, just say that you don't know. Use three sentences maximum and keep the answer concise.\\nQuestion: {question} \\nContext: {context} \\nAnswer:\"), additional_kwargs={})]\n",
      "['context', 'question']\n",
      "[HumanMessagePromptTemplate(prompt=PromptTemplate(input_variables=['context', 'question'], input_types={}, partial_variables={}, template=\"You are an assistant for question-answering tasks. Use the following pieces of retrieved context to answer the question. If you don't know the answer, just say that you don't know. Use three sentences maximum and keep the answer concise.\\nQuestion: {question} \\nContext: {context} \\nAnswer:\"), additional_kwargs={})]\n"
     ]
    }
   ],
   "source": [
    "vectorstore = Chroma.from_documents(documents=docs, \n",
    "                                    embedding=embedding_function)\n",
    "\n",
    "# Retrieve and generate using the relevant snippets of the blog.\n",
    "retriever = vectorstore.as_retriever()\n",
    "prompt = hub.pull(\"rlm/rag-prompt\")\n",
    "\n",
    "print(prompt)\n",
    "print(prompt.input_variables)\n",
    "print(prompt.messages)\n",
    "\n",
    "def format_docs(docs):\n",
    "    return \"\\n\\n\".join(doc.page_content for doc in docs)\n",
    "\n",
    "rag_chain = (\n",
    "    {\"context\": retriever | format_docs, \"question\": RunnablePassthrough()}\n",
    "    | prompt\n",
    "    | llm\n",
    "    | StrOutputParser()\n",
    ")"
   ]
  },
  {
   "cell_type": "code",
   "execution_count": 6,
   "metadata": {},
   "outputs": [
    {
     "data": {
      "text/plain": [
       "'校服可在校内商店或指定的线上购物平台购买。  具体销售点请咨询学校或查看学校官网。\\n'"
      ]
     },
     "execution_count": 6,
     "metadata": {},
     "output_type": "execute_result"
    }
   ],
   "source": [
    "question = \"Какие услуги предоставляются для студентов с ограниченными возможностями?\"\n",
    "rag_chain.invoke(question)"
   ]
  },
  {
   "cell_type": "code",
   "execution_count": null,
   "metadata": {},
   "outputs": [],
   "source": []
  }
 ],
 "metadata": {
  "kernelspec": {
   "display_name": ".practice",
   "language": "python",
   "name": "python3"
  },
  "language_info": {
   "codemirror_mode": {
    "name": "ipython",
    "version": 3
   },
   "file_extension": ".py",
   "mimetype": "text/x-python",
   "name": "python",
   "nbconvert_exporter": "python",
   "pygments_lexer": "ipython3",
   "version": "3.13.0"
  }
 },
 "nbformat": 4,
 "nbformat_minor": 2
}
