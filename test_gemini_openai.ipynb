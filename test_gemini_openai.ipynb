{
 "cells": [
  {
   "cell_type": "code",
   "execution_count": 3,
   "metadata": {},
   "outputs": [
    {
     "name": "stdout",
     "output_type": "stream",
     "text": [
      "sk-gapk-jClFyIn1HMoiknfxfhF0BhoS9-ihRSu6 https://api.platform.a15t.com/v1 gcp/gemini-1.5-flash-002\n"
     ]
    }
   ],
   "source": [
    "from openai import OpenAI\n",
    "\n",
    "api_key=\"sk-gapk-jClFyIn1HMoiknfxfhF0BhoS9-ihRSu6\"\n",
    "chat_completion_url = \"https://api.platform.a15t.com/v1\"\n",
    "gemini_model = \"gcp/gemini-1.5-pro-002\"\n",
    "openai_model = \"openai/gpt-4o-2024-05-13\"\n",
    "\n",
    "client = OpenAI(\n",
    "    api_key=api_key,\n",
    "    base_url=chat_completion_url\n",
    ")\n",
    "\n",
    "response = client.chat.completions.create(\n",
    "    model=gemini_model,\n",
    "    messages=[\n",
    "        {\"role\": \"system\", \"content\": \"You are a helpful assistant.\"},\n",
    "        {\n",
    "            \"role\": \"user\",\n",
    "            \"content\": \"대한민국의 수도와 일본의 수도 알려줘\"\n",
    "        }\n",
    "    ]\n",
    ")\n",
    "\n",
    "print(response.choices[0].message)"
   ]
  },
  {
   "cell_type": "code",
   "execution_count": null,
   "metadata": {},
   "outputs": [],
   "source": [
    "from openai import OpenAI\n",
    "from dotenv import load_dotenv\n",
    "\n",
    "import os\n",
    "\n",
    "load_dotenv()\n",
    "\n",
    "api_key = os.getenv(\"API_KEY\")\n",
    "chat_completion_url = os.getenv(\"BASE_URL\")\n",
    "model = os.getenv(\"MODEL\")\n",
    "\n",
    "print(api_key, chat_completion_url, model)\n",
    "\n",
    "llm = OpenAI(\n",
    "    api_key=api_key,\n",
    "    base_url=chat_completion_url\n",
    ")"
   ]
  },
  {
   "cell_type": "code",
   "execution_count": 5,
   "metadata": {},
   "outputs": [
    {
     "name": "stdout",
     "output_type": "stream",
     "text": [
      "Hello world!\n",
      "\n"
     ]
    }
   ],
   "source": [
    "completion = llm.chat.completions.create(model=model, messages=[{\"role\": \"user\", \"content\": \"Hello world\"}])\n",
    "print(completion.choices[0].message.content)"
   ]
  },
  {
   "cell_type": "code",
   "execution_count": null,
   "metadata": {},
   "outputs": [],
   "source": []
  }
 ],
 "metadata": {
  "kernelspec": {
   "display_name": ".practice",
   "language": "python",
   "name": "python3"
  },
  "language_info": {
   "codemirror_mode": {
    "name": "ipython",
    "version": 3
   },
   "file_extension": ".py",
   "mimetype": "text/x-python",
   "name": "python",
   "nbconvert_exporter": "python",
   "pygments_lexer": "ipython3",
   "version": "3.13.0"
  }
 },
 "nbformat": 4,
 "nbformat_minor": 2
}
